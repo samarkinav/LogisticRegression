{
 "cells": [
  {
   "cell_type": "code",
   "execution_count": 1,
   "metadata": {},
   "outputs": [],
   "source": [
    "import pandas as pd\n",
    "import numpy as np\n",
    "\n",
    "import seaborn as sns\n",
    "import matplotlib.pyplot as plt\n",
    "\n",
    "import warnings\n",
    "warnings.filterwarnings('ignore')\n",
    "\n",
    "from sklearn.metrics import roc_auc_score, roc_curve, confusion_matrix\n",
    "from sklearn.metrics import classification_report, f1_score, precision_score, recall_score\n",
    "\n",
    "from pylab import rcParams\n",
    "rcParams['figure.figsize'] = 20, 10"
   ]
  },
  {
   "cell_type": "markdown",
   "metadata": {},
   "source": [
    "## Чтение данных"
   ]
  },
  {
   "cell_type": "code",
   "execution_count": 2,
   "metadata": {},
   "outputs": [
    {
     "data": {
      "text/html": [
       "<div>\n",
       "<style scoped>\n",
       "    .dataframe tbody tr th:only-of-type {\n",
       "        vertical-align: middle;\n",
       "    }\n",
       "\n",
       "    .dataframe tbody tr th {\n",
       "        vertical-align: top;\n",
       "    }\n",
       "\n",
       "    .dataframe thead th {\n",
       "        text-align: right;\n",
       "    }\n",
       "</style>\n",
       "<table border=\"1\" class=\"dataframe\">\n",
       "  <thead>\n",
       "    <tr style=\"text-align: right;\">\n",
       "      <th></th>\n",
       "      <th>ID</th>\n",
       "      <th>feature_1</th>\n",
       "      <th>feature_2</th>\n",
       "      <th>feature_3</th>\n",
       "      <th>feature_4</th>\n",
       "      <th>feature_5</th>\n",
       "      <th>feature_6</th>\n",
       "      <th>feature_7</th>\n",
       "      <th>feature_8</th>\n",
       "      <th>feature_9</th>\n",
       "      <th>...</th>\n",
       "      <th>feature_116</th>\n",
       "      <th>feature_117</th>\n",
       "      <th>feature_118</th>\n",
       "      <th>feature_119</th>\n",
       "      <th>feature_120</th>\n",
       "      <th>feature_121</th>\n",
       "      <th>feature_122</th>\n",
       "      <th>feature_123</th>\n",
       "      <th>feature_124</th>\n",
       "      <th>target</th>\n",
       "    </tr>\n",
       "  </thead>\n",
       "  <tbody>\n",
       "    <tr>\n",
       "      <th>0</th>\n",
       "      <td>1</td>\n",
       "      <td>1</td>\n",
       "      <td>0</td>\n",
       "      <td>0</td>\n",
       "      <td>1381</td>\n",
       "      <td>63</td>\n",
       "      <td>0</td>\n",
       "      <td>0</td>\n",
       "      <td>1</td>\n",
       "      <td>0</td>\n",
       "      <td>...</td>\n",
       "      <td>0</td>\n",
       "      <td>0</td>\n",
       "      <td>0</td>\n",
       "      <td>0.0</td>\n",
       "      <td>7000</td>\n",
       "      <td>4000</td>\n",
       "      <td>7526.3157</td>\n",
       "      <td>12000</td>\n",
       "      <td>0.583333</td>\n",
       "      <td>0</td>\n",
       "    </tr>\n",
       "    <tr>\n",
       "      <th>1</th>\n",
       "      <td>2</td>\n",
       "      <td>0</td>\n",
       "      <td>0</td>\n",
       "      <td>0</td>\n",
       "      <td>1809</td>\n",
       "      <td>33</td>\n",
       "      <td>1</td>\n",
       "      <td>0</td>\n",
       "      <td>1</td>\n",
       "      <td>0</td>\n",
       "      <td>...</td>\n",
       "      <td>0</td>\n",
       "      <td>0</td>\n",
       "      <td>0</td>\n",
       "      <td>0.0</td>\n",
       "      <td>10000</td>\n",
       "      <td>1000</td>\n",
       "      <td>8393.4426</td>\n",
       "      <td>30000</td>\n",
       "      <td>0.333333</td>\n",
       "      <td>0</td>\n",
       "    </tr>\n",
       "    <tr>\n",
       "      <th>2</th>\n",
       "      <td>3</td>\n",
       "      <td>0</td>\n",
       "      <td>0</td>\n",
       "      <td>0</td>\n",
       "      <td>1804</td>\n",
       "      <td>29</td>\n",
       "      <td>0</td>\n",
       "      <td>1</td>\n",
       "      <td>0</td>\n",
       "      <td>0</td>\n",
       "      <td>...</td>\n",
       "      <td>0</td>\n",
       "      <td>0</td>\n",
       "      <td>0</td>\n",
       "      <td>0.0</td>\n",
       "      <td>3000</td>\n",
       "      <td>1000</td>\n",
       "      <td>3425.9259</td>\n",
       "      <td>15000</td>\n",
       "      <td>0.200000</td>\n",
       "      <td>0</td>\n",
       "    </tr>\n",
       "    <tr>\n",
       "      <th>3</th>\n",
       "      <td>4</td>\n",
       "      <td>0</td>\n",
       "      <td>0</td>\n",
       "      <td>0</td>\n",
       "      <td>1560</td>\n",
       "      <td>28</td>\n",
       "      <td>1</td>\n",
       "      <td>1</td>\n",
       "      <td>0</td>\n",
       "      <td>0</td>\n",
       "      <td>...</td>\n",
       "      <td>0</td>\n",
       "      <td>0</td>\n",
       "      <td>0</td>\n",
       "      <td>0.0</td>\n",
       "      <td>2000</td>\n",
       "      <td>1000</td>\n",
       "      <td>1946.6666</td>\n",
       "      <td>3000</td>\n",
       "      <td>0.666667</td>\n",
       "      <td>0</td>\n",
       "    </tr>\n",
       "    <tr>\n",
       "      <th>4</th>\n",
       "      <td>5</td>\n",
       "      <td>0</td>\n",
       "      <td>0</td>\n",
       "      <td>0</td>\n",
       "      <td>258</td>\n",
       "      <td>33</td>\n",
       "      <td>1</td>\n",
       "      <td>0</td>\n",
       "      <td>0</td>\n",
       "      <td>0</td>\n",
       "      <td>...</td>\n",
       "      <td>0</td>\n",
       "      <td>0</td>\n",
       "      <td>0</td>\n",
       "      <td>0.0</td>\n",
       "      <td>2000</td>\n",
       "      <td>2000</td>\n",
       "      <td>4444.4444</td>\n",
       "      <td>8000</td>\n",
       "      <td>0.250000</td>\n",
       "      <td>0</td>\n",
       "    </tr>\n",
       "  </tbody>\n",
       "</table>\n",
       "<p>5 rows × 126 columns</p>\n",
       "</div>"
      ],
      "text/plain": [
       "   ID  feature_1  feature_2  feature_3  feature_4  feature_5  feature_6  \\\n",
       "0   1          1          0          0       1381         63          0   \n",
       "1   2          0          0          0       1809         33          1   \n",
       "2   3          0          0          0       1804         29          0   \n",
       "3   4          0          0          0       1560         28          1   \n",
       "4   5          0          0          0        258         33          1   \n",
       "\n",
       "   feature_7  feature_8  feature_9  ...  feature_116  feature_117  \\\n",
       "0          0          1          0  ...            0            0   \n",
       "1          0          1          0  ...            0            0   \n",
       "2          1          0          0  ...            0            0   \n",
       "3          1          0          0  ...            0            0   \n",
       "4          0          0          0  ...            0            0   \n",
       "\n",
       "   feature_118  feature_119  feature_120  feature_121  feature_122  \\\n",
       "0            0          0.0         7000         4000    7526.3157   \n",
       "1            0          0.0        10000         1000    8393.4426   \n",
       "2            0          0.0         3000         1000    3425.9259   \n",
       "3            0          0.0         2000         1000    1946.6666   \n",
       "4            0          0.0         2000         2000    4444.4444   \n",
       "\n",
       "   feature_123  feature_124  target  \n",
       "0        12000     0.583333       0  \n",
       "1        30000     0.333333       0  \n",
       "2        15000     0.200000       0  \n",
       "3         3000     0.666667       0  \n",
       "4         8000     0.250000       0  \n",
       "\n",
       "[5 rows x 126 columns]"
      ]
     },
     "execution_count": 2,
     "metadata": {},
     "output_type": "execute_result"
    }
   ],
   "source": [
    "df = pd.read_csv('data.csv', sep=';')\n",
    "df.head()"
   ]
  },
  {
   "cell_type": "code",
   "execution_count": 3,
   "metadata": {},
   "outputs": [
    {
     "name": "stdout",
     "output_type": "stream",
     "text": [
      "<class 'pandas.core.frame.DataFrame'>\n",
      "RangeIndex: 255820 entries, 0 to 255819\n",
      "Columns: 126 entries, ID to target\n",
      "dtypes: float64(21), int64(105)\n",
      "memory usage: 245.9 MB\n"
     ]
    }
   ],
   "source": [
    "df.info()"
   ]
  },
  {
   "cell_type": "markdown",
   "metadata": {},
   "source": [
    "Датасет состоит из 255820 наблюдений и 125 признаков. Все признаки являются числовыми (может быть были категориальными, но уже обработаны)"
   ]
  },
  {
   "cell_type": "markdown",
   "metadata": {},
   "source": [
    "## Пропущенные значения"
   ]
  },
  {
   "cell_type": "code",
   "execution_count": 4,
   "metadata": {},
   "outputs": [
    {
     "name": "stdout",
     "output_type": "stream",
     "text": [
      "feature_102 - 14.774059885857243%\n",
      "feature_103 - 14.774059885857243%\n",
      "feature_104 - 14.774059885857243%\n",
      "feature_105 - 14.774059885857243%\n",
      "feature_106 - 16.37596747713236%\n"
     ]
    }
   ],
   "source": [
    "for col in df.columns:\n",
    "    pct_missing = np.mean(df[col].isnull())\n",
    "    if pct_missing > 0:\n",
    "        print('{} - {}%'.format(col, pct_missing*100))"
   ]
  },
  {
   "cell_type": "markdown",
   "metadata": {},
   "source": [
    "Так как в фичах 102-105 одинаковое кол-во пропущенных значений, смеем предположить, что они находятся в одних и тех же наблюдениях. Может быть там же находится и часть пропущенных значений 106 фичи. Проверим:"
   ]
  },
  {
   "cell_type": "code",
   "execution_count": 5,
   "metadata": {},
   "outputs": [
    {
     "data": {
      "text/plain": [
       "37795"
      ]
     },
     "execution_count": 5,
     "metadata": {},
     "output_type": "execute_result"
    }
   ],
   "source": [
    "df['feature_102'].isnull().sum()"
   ]
  },
  {
   "cell_type": "markdown",
   "metadata": {},
   "source": [
    "Всего 37 795 пропущенных значений в 102 фиче. Выведем значения столбцов 102-106, которые соответсвуют пропущенным значениям 102 столбца, и посчитаем в них кол-во пропущенных значений."
   ]
  },
  {
   "cell_type": "code",
   "execution_count": 6,
   "metadata": {},
   "outputs": [
    {
     "data": {
      "text/plain": [
       "feature_102    37795\n",
       "feature_103    37795\n",
       "feature_104    37795\n",
       "feature_105    37795\n",
       "feature_106    37795\n",
       "dtype: int64"
      ]
     },
     "execution_count": 6,
     "metadata": {},
     "output_type": "execute_result"
    }
   ],
   "source": [
    "df[['feature_102', 'feature_103', 'feature_104', 'feature_105', 'feature_106']]\\\n",
    "    [df['feature_102'].isnull()].isna().sum()"
   ]
  },
  {
   "cell_type": "markdown",
   "metadata": {},
   "source": [
    "Предположение о том, что пропущенные значения соответсвуют одним и тем же наблюдениям подтвердилось. Удалим эти наблюдения."
   ]
  },
  {
   "cell_type": "code",
   "execution_count": 7,
   "metadata": {},
   "outputs": [],
   "source": [
    "data = df[df['feature_102'].notnull()]"
   ]
  },
  {
   "cell_type": "markdown",
   "metadata": {},
   "source": [
    "Рассмотрим 106 фичу, чтобы понять, как обработать оставшиеся в ней пропущенные значения."
   ]
  },
  {
   "cell_type": "code",
   "execution_count": 8,
   "metadata": {},
   "outputs": [
    {
     "data": {
      "text/plain": [
       "1.000000    47662\n",
       "0.000000    16264\n",
       "0.500000     1262\n",
       "0.333333     1054\n",
       "0.250000     1017\n",
       "            ...  \n",
       "0.134680        1\n",
       "0.295265        1\n",
       "0.025843        1\n",
       "0.061360        1\n",
       "0.255208        1\n",
       "Name: feature_106, Length: 29915, dtype: int64"
      ]
     },
     "execution_count": 8,
     "metadata": {},
     "output_type": "execute_result"
    }
   ],
   "source": [
    "data['feature_106'].value_counts()"
   ]
  },
  {
   "cell_type": "markdown",
   "metadata": {},
   "source": [
    "Заполним пропущенные значения в 106 фиче медианой:"
   ]
  },
  {
   "cell_type": "code",
   "execution_count": 9,
   "metadata": {},
   "outputs": [],
   "source": [
    "data.fillna(data.median(axis = 0), axis=0 , inplace=True)"
   ]
  },
  {
   "cell_type": "code",
   "execution_count": 10,
   "metadata": {},
   "outputs": [
    {
     "data": {
      "text/plain": [
       "Index([], dtype='object')"
      ]
     },
     "execution_count": 10,
     "metadata": {},
     "output_type": "execute_result"
    }
   ],
   "source": [
    "data.columns[data.isnull().any()]"
   ]
  },
  {
   "cell_type": "markdown",
   "metadata": {},
   "source": [
    "Таким образом, обработаны все пропущенные значения."
   ]
  },
  {
   "cell_type": "markdown",
   "metadata": {},
   "source": [
    "## Обработка выбросов"
   ]
  },
  {
   "cell_type": "code",
   "execution_count": 12,
   "metadata": {},
   "outputs": [
    {
     "data": {
      "text/plain": [
       "<AxesSubplot:>"
      ]
     },
     "execution_count": 12,
     "metadata": {},
     "output_type": "execute_result"
    },
    {
     "data": {
      "image/png": "[encoded data removed]",
      "text/plain": [
       "<Figure size 1440x720 with 1 Axes>"
      ]
     },
     "metadata": {
      "needs_background": "light"
     },
     "output_type": "display_data"
    }
   ],
   "source": [
    "data.boxplot('feature_4')"
   ]
  },
  {
   "cell_type": "code",
   "execution_count": 13,
   "metadata": {},
   "outputs": [],
   "source": [
    "Q1 = data['feature_4'].quantile(0.25)\n",
    "Q3 = data['feature_4'].quantile(0.75)\n",
    "IQR = Q3 - Q1\n",
    "max_q = Q3+(1.5*IQR)\n",
    "\n",
    "index_drop = data[data['feature_4']>max_q].index\n",
    "data = data.drop(index_drop, axis=0)"
   ]
  },
  {
   "cell_type": "markdown",
   "metadata": {},
   "source": [
    "## Анализ целевой переменной"
   ]
  },
  {
   "cell_type": "code",
   "execution_count": 14,
   "metadata": {},
   "outputs": [
    {
     "data": {
      "text/plain": [
       "0    181557\n",
       "1     36124\n",
       "Name: target, dtype: int64"
      ]
     },
     "execution_count": 14,
     "metadata": {},
     "output_type": "execute_result"
    }
   ],
   "source": [
    "data.target.value_counts()"
   ]
  },
  {
   "cell_type": "code",
   "execution_count": 15,
   "metadata": {},
   "outputs": [
    {
     "data": {
      "image/png": "[encoded data removed]",
      "text/plain": [
       "<Figure size 1440x720 with 1 Axes>"
      ]
     },
     "metadata": {
      "needs_background": "light"
     },
     "output_type": "display_data"
    },
    {
     "data": {
      "text/plain": [
       "<Figure size 1440x720 with 0 Axes>"
      ]
     },
     "metadata": {},
     "output_type": "display_data"
    }
   ],
   "source": [
    "sns.countplot(x='target', data=data, palette='hls')\n",
    "plt.show()\n",
    "plt.savefig('count_plot')"
   ]
  },
  {
   "cell_type": "code",
   "execution_count": 16,
   "metadata": {},
   "outputs": [
    {
     "name": "stdout",
     "output_type": "stream",
     "text": [
      "0.8340507439785741\n",
      "0.16594925602142585\n"
     ]
    }
   ],
   "source": [
    "print(data[data.target == 0].shape[0]/data.shape[0])\n",
    "print(data[data.target == 1].shape[0]/data.shape[0])"
   ]
  },
  {
   "cell_type": "markdown",
   "metadata": {},
   "source": [
    "Классы не сбалансированы, соотношение классов 83:17"
   ]
  },
  {
   "cell_type": "markdown",
   "metadata": {},
   "source": [
    "## Отбор признаков"
   ]
  },
  {
   "cell_type": "code",
   "execution_count": 17,
   "metadata": {},
   "outputs": [
    {
     "data": {
      "text/html": [
       "<div>\n",
       "<style scoped>\n",
       "    .dataframe tbody tr th:only-of-type {\n",
       "        vertical-align: middle;\n",
       "    }\n",
       "\n",
       "    .dataframe tbody tr th {\n",
       "        vertical-align: top;\n",
       "    }\n",
       "\n",
       "    .dataframe thead th {\n",
       "        text-align: right;\n",
       "    }\n",
       "</style>\n",
       "<table border=\"1\" class=\"dataframe\">\n",
       "  <thead>\n",
       "    <tr style=\"text-align: right;\">\n",
       "      <th></th>\n",
       "      <th>ID</th>\n",
       "      <th>feature_1</th>\n",
       "      <th>feature_2</th>\n",
       "      <th>feature_3</th>\n",
       "      <th>feature_4</th>\n",
       "      <th>feature_5</th>\n",
       "      <th>feature_6</th>\n",
       "      <th>feature_7</th>\n",
       "      <th>feature_8</th>\n",
       "      <th>feature_9</th>\n",
       "      <th>...</th>\n",
       "      <th>feature_116</th>\n",
       "      <th>feature_117</th>\n",
       "      <th>feature_118</th>\n",
       "      <th>feature_119</th>\n",
       "      <th>feature_120</th>\n",
       "      <th>feature_121</th>\n",
       "      <th>feature_122</th>\n",
       "      <th>feature_123</th>\n",
       "      <th>feature_124</th>\n",
       "      <th>target</th>\n",
       "    </tr>\n",
       "  </thead>\n",
       "  <tbody>\n",
       "    <tr>\n",
       "      <th>ID</th>\n",
       "      <td>1.000000</td>\n",
       "      <td>0.005685</td>\n",
       "      <td>0.002459</td>\n",
       "      <td>-0.000301</td>\n",
       "      <td>0.002645</td>\n",
       "      <td>-0.001667</td>\n",
       "      <td>-0.002438</td>\n",
       "      <td>-0.000075</td>\n",
       "      <td>-0.002843</td>\n",
       "      <td>0.003763</td>\n",
       "      <td>...</td>\n",
       "      <td>-0.001407</td>\n",
       "      <td>-0.003676</td>\n",
       "      <td>-0.004174</td>\n",
       "      <td>-0.004279</td>\n",
       "      <td>0.001862</td>\n",
       "      <td>-0.000485</td>\n",
       "      <td>-0.000447</td>\n",
       "      <td>0.000010</td>\n",
       "      <td>0.002390</td>\n",
       "      <td>0.001583</td>\n",
       "    </tr>\n",
       "    <tr>\n",
       "      <th>feature_1</th>\n",
       "      <td>0.005685</td>\n",
       "      <td>1.000000</td>\n",
       "      <td>-0.003150</td>\n",
       "      <td>0.008337</td>\n",
       "      <td>-0.020553</td>\n",
       "      <td>-0.028683</td>\n",
       "      <td>0.025949</td>\n",
       "      <td>0.001722</td>\n",
       "      <td>0.000997</td>\n",
       "      <td>-0.002275</td>\n",
       "      <td>...</td>\n",
       "      <td>-0.061339</td>\n",
       "      <td>-0.038568</td>\n",
       "      <td>-0.038790</td>\n",
       "      <td>-0.034737</td>\n",
       "      <td>0.116977</td>\n",
       "      <td>0.113587</td>\n",
       "      <td>0.102654</td>\n",
       "      <td>0.043328</td>\n",
       "      <td>0.141738</td>\n",
       "      <td>0.109814</td>\n",
       "    </tr>\n",
       "    <tr>\n",
       "      <th>feature_2</th>\n",
       "      <td>0.002459</td>\n",
       "      <td>-0.003150</td>\n",
       "      <td>1.000000</td>\n",
       "      <td>-0.000167</td>\n",
       "      <td>0.004617</td>\n",
       "      <td>-0.002024</td>\n",
       "      <td>-0.001422</td>\n",
       "      <td>-0.000894</td>\n",
       "      <td>0.003257</td>\n",
       "      <td>-0.001118</td>\n",
       "      <td>...</td>\n",
       "      <td>-0.000542</td>\n",
       "      <td>-0.000741</td>\n",
       "      <td>-0.000623</td>\n",
       "      <td>-0.000503</td>\n",
       "      <td>-0.001866</td>\n",
       "      <td>-0.000485</td>\n",
       "      <td>0.000601</td>\n",
       "      <td>-0.001562</td>\n",
       "      <td>-0.000445</td>\n",
       "      <td>0.000968</td>\n",
       "    </tr>\n",
       "    <tr>\n",
       "      <th>feature_3</th>\n",
       "      <td>-0.000301</td>\n",
       "      <td>0.008337</td>\n",
       "      <td>-0.000167</td>\n",
       "      <td>1.000000</td>\n",
       "      <td>-0.040166</td>\n",
       "      <td>-0.031803</td>\n",
       "      <td>-0.003602</td>\n",
       "      <td>0.000012</td>\n",
       "      <td>0.002108</td>\n",
       "      <td>-0.010151</td>\n",
       "      <td>...</td>\n",
       "      <td>-0.003972</td>\n",
       "      <td>-0.006025</td>\n",
       "      <td>-0.004788</td>\n",
       "      <td>-0.001481</td>\n",
       "      <td>-0.001419</td>\n",
       "      <td>0.024402</td>\n",
       "      <td>-0.002692</td>\n",
       "      <td>-0.021400</td>\n",
       "      <td>0.036661</td>\n",
       "      <td>-0.005593</td>\n",
       "    </tr>\n",
       "    <tr>\n",
       "      <th>feature_4</th>\n",
       "      <td>0.002645</td>\n",
       "      <td>-0.020553</td>\n",
       "      <td>0.004617</td>\n",
       "      <td>-0.040166</td>\n",
       "      <td>1.000000</td>\n",
       "      <td>0.179316</td>\n",
       "      <td>0.035619</td>\n",
       "      <td>-0.122870</td>\n",
       "      <td>0.079838</td>\n",
       "      <td>0.042931</td>\n",
       "      <td>...</td>\n",
       "      <td>0.025673</td>\n",
       "      <td>0.062647</td>\n",
       "      <td>0.061125</td>\n",
       "      <td>-0.024619</td>\n",
       "      <td>-0.015571</td>\n",
       "      <td>-0.238327</td>\n",
       "      <td>-0.047307</td>\n",
       "      <td>0.189893</td>\n",
       "      <td>-0.286720</td>\n",
       "      <td>0.032837</td>\n",
       "    </tr>\n",
       "    <tr>\n",
       "      <th>...</th>\n",
       "      <td>...</td>\n",
       "      <td>...</td>\n",
       "      <td>...</td>\n",
       "      <td>...</td>\n",
       "      <td>...</td>\n",
       "      <td>...</td>\n",
       "      <td>...</td>\n",
       "      <td>...</td>\n",
       "      <td>...</td>\n",
       "      <td>...</td>\n",
       "      <td>...</td>\n",
       "      <td>...</td>\n",
       "      <td>...</td>\n",
       "      <td>...</td>\n",
       "      <td>...</td>\n",
       "      <td>...</td>\n",
       "      <td>...</td>\n",
       "      <td>...</td>\n",
       "      <td>...</td>\n",
       "      <td>...</td>\n",
       "      <td>...</td>\n",
       "    </tr>\n",
       "    <tr>\n",
       "      <th>feature_121</th>\n",
       "      <td>-0.000485</td>\n",
       "      <td>0.113587</td>\n",
       "      <td>-0.000485</td>\n",
       "      <td>0.024402</td>\n",
       "      <td>-0.238327</td>\n",
       "      <td>0.052527</td>\n",
       "      <td>0.077613</td>\n",
       "      <td>-0.050348</td>\n",
       "      <td>0.050978</td>\n",
       "      <td>0.002776</td>\n",
       "      <td>...</td>\n",
       "      <td>0.157090</td>\n",
       "      <td>0.142265</td>\n",
       "      <td>0.138641</td>\n",
       "      <td>0.301337</td>\n",
       "      <td>0.429859</td>\n",
       "      <td>1.000000</td>\n",
       "      <td>0.635523</td>\n",
       "      <td>0.251531</td>\n",
       "      <td>0.318195</td>\n",
       "      <td>0.069411</td>\n",
       "    </tr>\n",
       "    <tr>\n",
       "      <th>feature_122</th>\n",
       "      <td>-0.000447</td>\n",
       "      <td>0.102654</td>\n",
       "      <td>0.000601</td>\n",
       "      <td>-0.002692</td>\n",
       "      <td>-0.047307</td>\n",
       "      <td>-0.004363</td>\n",
       "      <td>0.109239</td>\n",
       "      <td>-0.068085</td>\n",
       "      <td>0.094025</td>\n",
       "      <td>-0.025643</td>\n",
       "      <td>...</td>\n",
       "      <td>0.261029</td>\n",
       "      <td>0.307668</td>\n",
       "      <td>0.305133</td>\n",
       "      <td>0.328712</td>\n",
       "      <td>0.755828</td>\n",
       "      <td>0.635523</td>\n",
       "      <td>1.000000</td>\n",
       "      <td>0.758593</td>\n",
       "      <td>0.176749</td>\n",
       "      <td>0.019240</td>\n",
       "    </tr>\n",
       "    <tr>\n",
       "      <th>feature_123</th>\n",
       "      <td>0.000010</td>\n",
       "      <td>0.043328</td>\n",
       "      <td>-0.001562</td>\n",
       "      <td>-0.021400</td>\n",
       "      <td>0.189893</td>\n",
       "      <td>-0.042156</td>\n",
       "      <td>0.092487</td>\n",
       "      <td>-0.065603</td>\n",
       "      <td>0.099203</td>\n",
       "      <td>-0.038737</td>\n",
       "      <td>...</td>\n",
       "      <td>0.330503</td>\n",
       "      <td>0.460193</td>\n",
       "      <td>0.423987</td>\n",
       "      <td>0.296462</td>\n",
       "      <td>0.675889</td>\n",
       "      <td>0.251531</td>\n",
       "      <td>0.758593</td>\n",
       "      <td>1.000000</td>\n",
       "      <td>-0.141326</td>\n",
       "      <td>-0.022211</td>\n",
       "    </tr>\n",
       "    <tr>\n",
       "      <th>feature_124</th>\n",
       "      <td>0.002390</td>\n",
       "      <td>0.141738</td>\n",
       "      <td>-0.000445</td>\n",
       "      <td>0.036661</td>\n",
       "      <td>-0.286720</td>\n",
       "      <td>0.009455</td>\n",
       "      <td>-0.011686</td>\n",
       "      <td>0.023634</td>\n",
       "      <td>-0.028352</td>\n",
       "      <td>0.009353</td>\n",
       "      <td>...</td>\n",
       "      <td>0.140832</td>\n",
       "      <td>0.035645</td>\n",
       "      <td>0.040690</td>\n",
       "      <td>0.074388</td>\n",
       "      <td>0.505563</td>\n",
       "      <td>0.318195</td>\n",
       "      <td>0.176749</td>\n",
       "      <td>-0.141326</td>\n",
       "      <td>1.000000</td>\n",
       "      <td>0.106386</td>\n",
       "    </tr>\n",
       "    <tr>\n",
       "      <th>target</th>\n",
       "      <td>0.001583</td>\n",
       "      <td>0.109814</td>\n",
       "      <td>0.000968</td>\n",
       "      <td>-0.005593</td>\n",
       "      <td>0.032837</td>\n",
       "      <td>0.129744</td>\n",
       "      <td>0.046044</td>\n",
       "      <td>-0.038169</td>\n",
       "      <td>0.001123</td>\n",
       "      <td>0.049670</td>\n",
       "      <td>...</td>\n",
       "      <td>0.053447</td>\n",
       "      <td>0.031756</td>\n",
       "      <td>0.024575</td>\n",
       "      <td>0.046622</td>\n",
       "      <td>0.052062</td>\n",
       "      <td>0.069411</td>\n",
       "      <td>0.019240</td>\n",
       "      <td>-0.022211</td>\n",
       "      <td>0.106386</td>\n",
       "      <td>1.000000</td>\n",
       "    </tr>\n",
       "  </tbody>\n",
       "</table>\n",
       "<p>126 rows × 126 columns</p>\n",
       "</div>"
      ],
      "text/plain": [
       "                   ID  feature_1  feature_2  feature_3  feature_4  feature_5  \\\n",
       "ID           1.000000   0.005685   0.002459  -0.000301   0.002645  -0.001667   \n",
       "feature_1    0.005685   1.000000  -0.003150   0.008337  -0.020553  -0.028683   \n",
       "feature_2    0.002459  -0.003150   1.000000  -0.000167   0.004617  -0.002024   \n",
       "feature_3   -0.000301   0.008337  -0.000167   1.000000  -0.040166  -0.031803   \n",
       "feature_4    0.002645  -0.020553   0.004617  -0.040166   1.000000   0.179316   \n",
       "...               ...        ...        ...        ...        ...        ...   \n",
       "feature_121 -0.000485   0.113587  -0.000485   0.024402  -0.238327   0.052527   \n",
       "feature_122 -0.000447   0.102654   0.000601  -0.002692  -0.047307  -0.004363   \n",
       "feature_123  0.000010   0.043328  -0.001562  -0.021400   0.189893  -0.042156   \n",
       "feature_124  0.002390   0.141738  -0.000445   0.036661  -0.286720   0.009455   \n",
       "target       0.001583   0.109814   0.000968  -0.005593   0.032837   0.129744   \n",
       "\n",
       "             feature_6  feature_7  feature_8  feature_9  ...  feature_116  \\\n",
       "ID           -0.002438  -0.000075  -0.002843   0.003763  ...    -0.001407   \n",
       "feature_1     0.025949   0.001722   0.000997  -0.002275  ...    -0.061339   \n",
       "feature_2    -0.001422  -0.000894   0.003257  -0.001118  ...    -0.000542   \n",
       "feature_3    -0.003602   0.000012   0.002108  -0.010151  ...    -0.003972   \n",
       "feature_4     0.035619  -0.122870   0.079838   0.042931  ...     0.025673   \n",
       "...                ...        ...        ...        ...  ...          ...   \n",
       "feature_121   0.077613  -0.050348   0.050978   0.002776  ...     0.157090   \n",
       "feature_122   0.109239  -0.068085   0.094025  -0.025643  ...     0.261029   \n",
       "feature_123   0.092487  -0.065603   0.099203  -0.038737  ...     0.330503   \n",
       "feature_124  -0.011686   0.023634  -0.028352   0.009353  ...     0.140832   \n",
       "target        0.046044  -0.038169   0.001123   0.049670  ...     0.053447   \n",
       "\n",
       "             feature_117  feature_118  feature_119  feature_120  feature_121  \\\n",
       "ID             -0.003676    -0.004174    -0.004279     0.001862    -0.000485   \n",
       "feature_1      -0.038568    -0.038790    -0.034737     0.116977     0.113587   \n",
       "feature_2      -0.000741    -0.000623    -0.000503    -0.001866    -0.000485   \n",
       "feature_3      -0.006025    -0.004788    -0.001481    -0.001419     0.024402   \n",
       "feature_4       0.062647     0.061125    -0.024619    -0.015571    -0.238327   \n",
       "...                  ...          ...          ...          ...          ...   \n",
       "feature_121     0.142265     0.138641     0.301337     0.429859     1.000000   \n",
       "feature_122     0.307668     0.305133     0.328712     0.755828     0.635523   \n",
       "feature_123     0.460193     0.423987     0.296462     0.675889     0.251531   \n",
       "feature_124     0.035645     0.040690     0.074388     0.505563     0.318195   \n",
       "target          0.031756     0.024575     0.046622     0.052062     0.069411   \n",
       "\n",
       "             feature_122  feature_123  feature_124    target  \n",
       "ID             -0.000447     0.000010     0.002390  0.001583  \n",
       "feature_1       0.102654     0.043328     0.141738  0.109814  \n",
       "feature_2       0.000601    -0.001562    -0.000445  0.000968  \n",
       "feature_3      -0.002692    -0.021400     0.036661 -0.005593  \n",
       "feature_4      -0.047307     0.189893    -0.286720  0.032837  \n",
       "...                  ...          ...          ...       ...  \n",
       "feature_121     0.635523     0.251531     0.318195  0.069411  \n",
       "feature_122     1.000000     0.758593     0.176749  0.019240  \n",
       "feature_123     0.758593     1.000000    -0.141326 -0.022211  \n",
       "feature_124     0.176749    -0.141326     1.000000  0.106386  \n",
       "target          0.019240    -0.022211     0.106386  1.000000  \n",
       "\n",
       "[126 rows x 126 columns]"
      ]
     },
     "execution_count": 17,
     "metadata": {},
     "output_type": "execute_result"
    }
   ],
   "source": [
    "corr_mat = data.corr()\n",
    "corr_mat"
   ]
  },
  {
   "cell_type": "code",
   "execution_count": 18,
   "metadata": {},
   "outputs": [
    {
     "data": {
      "text/plain": [
       "['feature_51']"
      ]
     },
     "execution_count": 18,
     "metadata": {},
     "output_type": "execute_result"
    }
   ],
   "source": [
    "feature_to_drop = [i for i in corr_mat if corr_mat[i].isnull().drop_duplicates().values[0]] \n",
    "feature_to_drop"
   ]
  },
  {
   "cell_type": "markdown",
   "metadata": {},
   "source": [
    "Заметим, что фича 51 - константная. Не будем её рассматривать."
   ]
  },
  {
   "cell_type": "code",
   "execution_count": 19,
   "metadata": {},
   "outputs": [],
   "source": [
    "data = data.drop(feature_to_drop, axis=1)"
   ]
  },
  {
   "cell_type": "code",
   "execution_count": 20,
   "metadata": {},
   "outputs": [
    {
     "name": "stdout",
     "output_type": "stream",
     "text": [
      "feature_111  feature_112    0.998817\n",
      "feature_110  feature_114    0.982913\n",
      "feature_13   feature_16     0.856110\n",
      "feature_117  feature_118    0.840844\n",
      "feature_103  feature_104    0.826401\n",
      "feature_97   feature_100    0.811135\n",
      "feature_91   feature_94     0.803648\n",
      "feature_78   feature_80    -0.878814\n",
      "dtype: float64\n"
     ]
    }
   ],
   "source": [
    "data_corr = data.drop(['target'], axis=1).corr()\n",
    "corr_features = data_corr.where(np.triu(abs(data_corr) > 0.8, k=1)).stack()\\\n",
    "                .sort_values(ascending=False)\n",
    "print(corr_features)"
   ]
  },
  {
   "cell_type": "markdown",
   "metadata": {},
   "source": [
    "Видим, что многие признаки сильно коррелируют друг с другом. Посмотрим, какие признаки коррелируют с целевой переменной:"
   ]
  },
  {
   "cell_type": "code",
   "execution_count": 21,
   "metadata": {
    "scrolled": true
   },
   "outputs": [
    {
     "data": {
      "text/plain": [
       "feature_83     0.212728\n",
       "feature_110    0.211660\n",
       "feature_114    0.216109\n",
       "Name: target, dtype: float64"
      ]
     },
     "execution_count": 21,
     "metadata": {},
     "output_type": "execute_result"
    }
   ],
   "source": [
    "data_corr2 = corr_mat.iloc[:-1, -1]\n",
    "data_corr2[abs(data_corr2)>0.2]"
   ]
  },
  {
   "cell_type": "markdown",
   "metadata": {},
   "source": [
    "## Обучение модели"
   ]
  },
  {
   "cell_type": "markdown",
   "metadata": {},
   "source": [
    "Разделим данные на признаки и целевую переменную:"
   ]
  },
  {
   "cell_type": "code",
   "execution_count": 22,
   "metadata": {},
   "outputs": [],
   "source": [
    "X = data.drop(['target'], axis=1)\n",
    "y = data.target"
   ]
  },
  {
   "cell_type": "code",
   "execution_count": 23,
   "metadata": {},
   "outputs": [],
   "source": [
    "from sklearn.model_selection import train_test_split\n",
    "\n",
    "X_train, X_test, y_train, y_test = train_test_split(X, y, test_size=0.3, random_state=42)"
   ]
  },
  {
   "cell_type": "markdown",
   "metadata": {},
   "source": [
    "X_test, y_test оставим для тестирования модели. X_train и y_train будем использовать для валидации и обучения."
   ]
  },
  {
   "cell_type": "code",
   "execution_count": 24,
   "metadata": {},
   "outputs": [
    {
     "name": "stdout",
     "output_type": "stream",
     "text": [
      "Кол-во объектов класса 0 в обучающей выборке: 127134\n",
      "Кол-во объектов класса 1 в обучающей выборке: 25242\n"
     ]
    }
   ],
   "source": [
    "print('Кол-во объектов класса 0 в обучающей выборке: {}'.format(len(y_train[y_train==0])))\n",
    "print('Кол-во объектов класса 1 в обучающей выборке: {}'.format(len(y_train[y_train==1])))"
   ]
  },
  {
   "cell_type": "markdown",
   "metadata": {},
   "source": [
    "Не будем трогать несбалансированность классов, поскольку для нас важна вероятностная классификация."
   ]
  },
  {
   "cell_type": "code",
   "execution_count": 25,
   "metadata": {},
   "outputs": [],
   "source": [
    "from sklearn.linear_model import LogisticRegression\n",
    "\n",
    "logisticRegr = LogisticRegression()\n",
    "logisticRegr.fit(X_train, y_train)\n",
    "\n",
    "y_train_pred = logisticRegr.predict(X_train)\n",
    "y_test_pred = logisticRegr.predict(X_test)"
   ]
  },
  {
   "cell_type": "markdown",
   "metadata": {},
   "source": [
    "Нас не интересует метрика accuracy, поскольку у нас несбалансированные классы. Посмотрим на визуальный образ confusion matrix:"
   ]
  },
  {
   "cell_type": "code",
   "execution_count": 26,
   "metadata": {},
   "outputs": [
    {
     "data": {
      "image/png": "[encoded data removed]",
      "text/plain": [
       "<Figure size 648x648 with 2 Axes>"
      ]
     },
     "metadata": {
      "needs_background": "light"
     },
     "output_type": "display_data"
    }
   ],
   "source": [
    "cm = confusion_matrix(y_test, y_test_pred)\n",
    "plt.figure(figsize=(9,9))\n",
    "sns.heatmap(cm, annot=True, fmt=\".3f\", linewidths=.5, square = True, cmap = 'Blues_r');\n",
    "plt.ylabel('Actual label');\n",
    "plt.xlabel('Predicted label');"
   ]
  },
  {
   "cell_type": "markdown",
   "metadata": {},
   "source": [
    "Будем максимизировать F1 меру, поскольку в задаче нет смыслового описания и следовательно непонятно, что важнее точность или полнота."
   ]
  },
  {
   "cell_type": "code",
   "execution_count": 27,
   "metadata": {},
   "outputs": [
    {
     "name": "stdout",
     "output_type": "stream",
     "text": [
      "              precision    recall  f1-score   support\n",
      "\n",
      "           0       0.84      0.99      0.91     54423\n",
      "           1       0.43      0.03      0.05     10882\n",
      "\n",
      "    accuracy                           0.83     65305\n",
      "   macro avg       0.63      0.51      0.48     65305\n",
      "weighted avg       0.77      0.83      0.76     65305\n",
      "\n"
     ]
    }
   ],
   "source": [
    "print(classification_report(y_test, y_test_pred))"
   ]
  },
  {
   "cell_type": "code",
   "execution_count": 28,
   "metadata": {},
   "outputs": [
    {
     "name": "stdout",
     "output_type": "stream",
     "text": [
      "f1_train - 0.046128500823723224\n",
      "f1_test - 0.04874241110147442\n"
     ]
    }
   ],
   "source": [
    "print('f1_train - {}'.format(f1_score(y_train, y_train_pred)))\n",
    "print('f1_test - {}'.format(f1_score(y_test, y_test_pred)))"
   ]
  },
  {
   "cell_type": "markdown",
   "metadata": {},
   "source": [
    "Попробуем повысить значение F1 меры. Для начала с помощью кросс-валидации отыщем оптимальные параметры логистической регрессии:"
   ]
  },
  {
   "cell_type": "code",
   "execution_count": 29,
   "metadata": {},
   "outputs": [
    {
     "data": {
      "text/plain": [
       "GridSearchCV(cv=5, estimator=LogisticRegression(), n_jobs=-1,\n",
       "             param_grid={'class_weight': ['{0:0.83, 1:0.17}', 'balanced'],\n",
       "                         'solver': ['newton-cg', 'sag', 'saga', 'liblinear',\n",
       "                                    'lbfgs']},\n",
       "             scoring='f1')"
      ]
     },
     "execution_count": 29,
     "metadata": {},
     "output_type": "execute_result"
    }
   ],
   "source": [
    "from sklearn.model_selection import GridSearchCV\n",
    "\n",
    "clf = LogisticRegression()\n",
    "parametrs = {'solver': ['newton-cg', 'sag', 'saga', 'liblinear', 'lbfgs'],\n",
    "            'class_weight':['{0:0.83, 1:0.17}', 'balanced']}\n",
    "grid_search_cv_clf = GridSearchCV(clf, n_jobs=-1, param_grid=parametrs, cv=5, scoring='f1')\n",
    "grid_search_cv_clf.fit(X_train, y_train)"
   ]
  },
  {
   "cell_type": "code",
   "execution_count": 30,
   "metadata": {},
   "outputs": [
    {
     "data": {
      "text/plain": [
       "{'class_weight': 'balanced', 'solver': 'newton-cg'}"
      ]
     },
     "execution_count": 30,
     "metadata": {},
     "output_type": "execute_result"
    }
   ],
   "source": [
    "best_param = grid_search_cv_clf.best_params_\n",
    "best_param"
   ]
  },
  {
   "cell_type": "code",
   "execution_count": 31,
   "metadata": {},
   "outputs": [
    {
     "name": "stdout",
     "output_type": "stream",
     "text": [
      "f1_train - 0.4390305510299448\n",
      "f1_test - 0.43956748564600273\n"
     ]
    }
   ],
   "source": [
    "best_clf = grid_search_cv_clf.best_estimator_\n",
    "\n",
    "y_train_pred = best_clf.predict(X_train)\n",
    "y_test_pred = best_clf.predict(X_test)\n",
    "\n",
    "print('f1_train - {}'.format(f1_score(y_train, y_train_pred)))\n",
    "print('f1_test - {}'.format(f1_score(y_test, y_test_pred)))"
   ]
  },
  {
   "cell_type": "markdown",
   "metadata": {},
   "source": [
    "### Сделаем отбор признаков:"
   ]
  },
  {
   "cell_type": "markdown",
   "metadata": {},
   "source": [
    "Попробуем повысить качество модели за счёт отбора признаков. Поделим тренировочную выборку на выборку для валидации - 30% и на обучение - 70%. Отберём 20 лучших признаков."
   ]
  },
  {
   "cell_type": "code",
   "execution_count": 32,
   "metadata": {},
   "outputs": [],
   "source": [
    "X_train, X_valid, y_train, y_valid = train_test_split(X_train, y_train, test_size=0.3, random_state=42)"
   ]
  },
  {
   "cell_type": "code",
   "execution_count": 45,
   "metadata": {},
   "outputs": [
    {
     "data": {
      "text/plain": [
       "<PandasArray>\n",
       "[  'feature_1',   'feature_5',  'feature_28',  'feature_52',  'feature_54',\n",
       "  'feature_55',  'feature_82',  'feature_83',  'feature_85',  'feature_86',\n",
       "  'feature_87',  'feature_88',  'feature_96',  'feature_99', 'feature_102',\n",
       " 'feature_104', 'feature_110', 'feature_113', 'feature_114', 'feature_124']\n",
       "Length: 20, dtype: object"
      ]
     },
     "execution_count": 45,
     "metadata": {},
     "output_type": "execute_result"
    }
   ],
   "source": [
    "from sklearn.feature_selection import SelectKBest, f_classif\n",
    "\n",
    "selector = SelectKBest(f_classif, k=20)\n",
    "selector.fit(X_valid, y_valid)\n",
    "\n",
    "col = selector.get_support(indices=True)\n",
    "features_df_new = X_valid.iloc[:,col]\n",
    "cols = features_df_new.columns.array\n",
    "cols"
   ]
  },
  {
   "cell_type": "code",
   "execution_count": 46,
   "metadata": {},
   "outputs": [
    {
     "name": "stdout",
     "output_type": "stream",
     "text": [
      "Optimization terminated successfully.\n",
      "         Current function value: 0.404830\n",
      "         Iterations 7\n",
      "                         Results: Logit\n",
      "=================================================================\n",
      "Model:              Logit            Pseudo R-squared: 0.100     \n",
      "Dependent Variable: target           AIC:              37051.9654\n",
      "Date:               2021-11-25 09:47 BIC:              37226.5681\n",
      "No. Observations:   45713            Log-Likelihood:   -18506.   \n",
      "Df Model:           19               LL-Null:          -20560.   \n",
      "Df Residuals:       45693            LLR p-value:      0.0000    \n",
      "Converged:          1.0000           Scale:            1.0000    \n",
      "No. Iterations:     7.0000                                       \n",
      "------------------------------------------------------------------\n",
      "              Coef.   Std.Err.     z      P>|z|    [0.025   0.975]\n",
      "------------------------------------------------------------------\n",
      "feature_1     0.0034    0.0382    0.0881  0.9298  -0.0716   0.0783\n",
      "feature_5    -0.0138    0.0010  -13.7240  0.0000  -0.0158  -0.0119\n",
      "feature_28    0.5595    0.0392   14.2695  0.0000   0.4827   0.6364\n",
      "feature_52   -1.1554    0.0334  -34.5908  0.0000  -1.2208  -1.0899\n",
      "feature_54    0.0000    0.0000    2.5094  0.0121   0.0000   0.0001\n",
      "feature_55    2.1263    0.2214    9.6032  0.0000   1.6924   2.5603\n",
      "feature_82   -0.0256    0.0011  -23.8950  0.0000  -0.0277  -0.0235\n",
      "feature_83    0.0139    0.0007   18.4845  0.0000   0.0124   0.0153\n",
      "feature_85    0.0047    0.0018    2.6289  0.0086   0.0012   0.0082\n",
      "feature_86   -0.0168    0.0018   -9.2760  0.0000  -0.0203  -0.0132\n",
      "feature_87   -0.0023    0.0004   -5.5861  0.0000  -0.0030  -0.0015\n",
      "feature_88   -0.8179    0.0578  -14.1499  0.0000  -0.9312  -0.7046\n",
      "feature_96   -0.0376    0.0142   -2.6386  0.0083  -0.0655  -0.0097\n",
      "feature_99    0.2441    0.0253    9.6445  0.0000   0.1945   0.2937\n",
      "feature_102   0.0010    0.0001   12.2129  0.0000   0.0008   0.0012\n",
      "feature_104   0.0002    0.0001    1.8953  0.0580  -0.0000   0.0004\n",
      "feature_110  -0.5304    0.1963   -2.7016  0.0069  -0.9152  -0.1456\n",
      "feature_113  -0.5192    0.1471   -3.5302  0.0004  -0.8075  -0.2309\n",
      "feature_114   2.0372    0.2094    9.7301  0.0000   1.6268   2.4475\n",
      "feature_124  -0.5341    0.0432  -12.3590  0.0000  -0.6189  -0.4494\n",
      "=================================================================\n",
      "\n"
     ]
    }
   ],
   "source": [
    "import statsmodels.api as sm\n",
    "logit_model=sm.Logit(y_valid,X_valid[cols])\n",
    "result=logit_model.fit()\n",
    "print(result.summary2())"
   ]
  },
  {
   "cell_type": "markdown",
   "metadata": {},
   "source": [
    "Удалим их из рассмотрения признаки, для которых p-value > 0.05"
   ]
  },
  {
   "cell_type": "code",
   "execution_count": 47,
   "metadata": {},
   "outputs": [
    {
     "name": "stdout",
     "output_type": "stream",
     "text": [
      "feature_110 feature_114    0.982913\n",
      "dtype: float64\n"
     ]
    }
   ],
   "source": [
    "for col in cols:\n",
    "    try:\n",
    "        print(col, corr_features[col])\n",
    "    except:\n",
    "        pass"
   ]
  },
  {
   "cell_type": "markdown",
   "metadata": {},
   "source": [
    "Признаки 110 и 114 сильно коррелируют. Удалим один из них из рассмотрения."
   ]
  },
  {
   "cell_type": "code",
   "execution_count": 48,
   "metadata": {},
   "outputs": [],
   "source": [
    "cols = ['feature_5',  'feature_28',  'feature_52',  'feature_54',\n",
    "    'feature_55',  'feature_82',  'feature_83',  'feature_85',  'feature_86',\n",
    "    'feature_87',  'feature_88',  'feature_96',  'feature_99', 'feature_102', \n",
    "    'feature_113', 'feature_114', 'feature_124']"
   ]
  },
  {
   "cell_type": "code",
   "execution_count": 49,
   "metadata": {
    "scrolled": true
   },
   "outputs": [
    {
     "name": "stdout",
     "output_type": "stream",
     "text": [
      "f1_train - 0.4254866234914221\n",
      "f1_test - 0.42723538152259416\n"
     ]
    }
   ],
   "source": [
    "best_clf.fit(X_train[cols], y_train)\n",
    "\n",
    "y_train_pred = best_clf.predict(X_train[cols])\n",
    "y_test_pred = best_clf.predict(X_test[cols])\n",
    "\n",
    "print('f1_train - {}'.format(f1_score(y_train, y_train_pred)))\n",
    "print('f1_test - {}'.format(f1_score(y_test, y_test_pred)))"
   ]
  },
  {
   "cell_type": "markdown",
   "metadata": {},
   "source": [
    "Отбор 20 лучших признаков ухудшил качество модели. Поварьируем число отобранных признаков:"
   ]
  },
  {
   "cell_type": "code",
   "execution_count": 68,
   "metadata": {},
   "outputs": [],
   "source": [
    "scores_data = pd.DataFrame()\n",
    "\n",
    "for count in range(10, 41):\n",
    "    selector = SelectKBest(f_classif, k=count);\n",
    "    selector.fit(X_valid, y_valid)\n",
    "\n",
    "    col = selector.get_support(indices=True)\n",
    "    features_df_new = X_valid.iloc[:,col]\n",
    "    cols = features_df_new.columns.array\n",
    "    \n",
    "    best_clf.fit(X_train[cols], y_train);\n",
    "    y_train_pred = best_clf.predict(X_train[cols])\n",
    "    y_test_pred = best_clf.predict(X_test[cols])\n",
    "\n",
    "    f1_train = f1_score(y_train, y_train_pred)\n",
    "    f1_test = f1_score(y_test, y_test_pred)\n",
    "    \n",
    "    temp_score_data = pd.DataFrame({'count_features':[count],\n",
    "                                   'f1_train': [f1_train],\n",
    "                                   'f1_test':[f1_test]})\n",
    "    \n",
    "    scores_data = scores_data.append(temp_score_data)"
   ]
  },
  {
   "cell_type": "code",
   "execution_count": 69,
   "metadata": {},
   "outputs": [
    {
     "data": {
      "text/html": [
       "<div>\n",
       "<style scoped>\n",
       "    .dataframe tbody tr th:only-of-type {\n",
       "        vertical-align: middle;\n",
       "    }\n",
       "\n",
       "    .dataframe tbody tr th {\n",
       "        vertical-align: top;\n",
       "    }\n",
       "\n",
       "    .dataframe thead th {\n",
       "        text-align: right;\n",
       "    }\n",
       "</style>\n",
       "<table border=\"1\" class=\"dataframe\">\n",
       "  <thead>\n",
       "    <tr style=\"text-align: right;\">\n",
       "      <th></th>\n",
       "      <th>count_features</th>\n",
       "      <th>f1_train</th>\n",
       "      <th>f1_test</th>\n",
       "    </tr>\n",
       "  </thead>\n",
       "  <tbody>\n",
       "    <tr>\n",
       "      <th>0</th>\n",
       "      <td>10</td>\n",
       "      <td>0.428011</td>\n",
       "      <td>0.428644</td>\n",
       "    </tr>\n",
       "    <tr>\n",
       "      <th>0</th>\n",
       "      <td>11</td>\n",
       "      <td>0.427368</td>\n",
       "      <td>0.427480</td>\n",
       "    </tr>\n",
       "    <tr>\n",
       "      <th>0</th>\n",
       "      <td>12</td>\n",
       "      <td>0.425669</td>\n",
       "      <td>0.427123</td>\n",
       "    </tr>\n",
       "    <tr>\n",
       "      <th>0</th>\n",
       "      <td>13</td>\n",
       "      <td>0.426312</td>\n",
       "      <td>0.427360</td>\n",
       "    </tr>\n",
       "    <tr>\n",
       "      <th>0</th>\n",
       "      <td>14</td>\n",
       "      <td>0.425701</td>\n",
       "      <td>0.427760</td>\n",
       "    </tr>\n",
       "    <tr>\n",
       "      <th>0</th>\n",
       "      <td>15</td>\n",
       "      <td>0.425750</td>\n",
       "      <td>0.428145</td>\n",
       "    </tr>\n",
       "    <tr>\n",
       "      <th>0</th>\n",
       "      <td>16</td>\n",
       "      <td>0.425933</td>\n",
       "      <td>0.428868</td>\n",
       "    </tr>\n",
       "    <tr>\n",
       "      <th>0</th>\n",
       "      <td>17</td>\n",
       "      <td>0.427839</td>\n",
       "      <td>0.429040</td>\n",
       "    </tr>\n",
       "    <tr>\n",
       "      <th>0</th>\n",
       "      <td>18</td>\n",
       "      <td>0.427798</td>\n",
       "      <td>0.429056</td>\n",
       "    </tr>\n",
       "    <tr>\n",
       "      <th>0</th>\n",
       "      <td>19</td>\n",
       "      <td>0.428069</td>\n",
       "      <td>0.429174</td>\n",
       "    </tr>\n",
       "    <tr>\n",
       "      <th>0</th>\n",
       "      <td>20</td>\n",
       "      <td>0.428382</td>\n",
       "      <td>0.429690</td>\n",
       "    </tr>\n",
       "    <tr>\n",
       "      <th>0</th>\n",
       "      <td>21</td>\n",
       "      <td>0.430212</td>\n",
       "      <td>0.431175</td>\n",
       "    </tr>\n",
       "    <tr>\n",
       "      <th>0</th>\n",
       "      <td>22</td>\n",
       "      <td>0.430282</td>\n",
       "      <td>0.431123</td>\n",
       "    </tr>\n",
       "    <tr>\n",
       "      <th>0</th>\n",
       "      <td>23</td>\n",
       "      <td>0.434309</td>\n",
       "      <td>0.434333</td>\n",
       "    </tr>\n",
       "    <tr>\n",
       "      <th>0</th>\n",
       "      <td>24</td>\n",
       "      <td>0.437269</td>\n",
       "      <td>0.434865</td>\n",
       "    </tr>\n",
       "    <tr>\n",
       "      <th>0</th>\n",
       "      <td>25</td>\n",
       "      <td>0.436952</td>\n",
       "      <td>0.434287</td>\n",
       "    </tr>\n",
       "    <tr>\n",
       "      <th>0</th>\n",
       "      <td>26</td>\n",
       "      <td>0.436925</td>\n",
       "      <td>0.434578</td>\n",
       "    </tr>\n",
       "    <tr>\n",
       "      <th>0</th>\n",
       "      <td>27</td>\n",
       "      <td>0.437032</td>\n",
       "      <td>0.435143</td>\n",
       "    </tr>\n",
       "    <tr>\n",
       "      <th>0</th>\n",
       "      <td>28</td>\n",
       "      <td>0.437146</td>\n",
       "      <td>0.435031</td>\n",
       "    </tr>\n",
       "    <tr>\n",
       "      <th>0</th>\n",
       "      <td>29</td>\n",
       "      <td>0.437247</td>\n",
       "      <td>0.434507</td>\n",
       "    </tr>\n",
       "    <tr>\n",
       "      <th>0</th>\n",
       "      <td>30</td>\n",
       "      <td>0.437826</td>\n",
       "      <td>0.434765</td>\n",
       "    </tr>\n",
       "    <tr>\n",
       "      <th>0</th>\n",
       "      <td>31</td>\n",
       "      <td>0.437751</td>\n",
       "      <td>0.434384</td>\n",
       "    </tr>\n",
       "    <tr>\n",
       "      <th>0</th>\n",
       "      <td>32</td>\n",
       "      <td>0.437108</td>\n",
       "      <td>0.433401</td>\n",
       "    </tr>\n",
       "    <tr>\n",
       "      <th>0</th>\n",
       "      <td>33</td>\n",
       "      <td>0.437144</td>\n",
       "      <td>0.433364</td>\n",
       "    </tr>\n",
       "    <tr>\n",
       "      <th>0</th>\n",
       "      <td>34</td>\n",
       "      <td>0.437815</td>\n",
       "      <td>0.435366</td>\n",
       "    </tr>\n",
       "    <tr>\n",
       "      <th>0</th>\n",
       "      <td>35</td>\n",
       "      <td>0.437292</td>\n",
       "      <td>0.433912</td>\n",
       "    </tr>\n",
       "    <tr>\n",
       "      <th>0</th>\n",
       "      <td>36</td>\n",
       "      <td>0.436101</td>\n",
       "      <td>0.432395</td>\n",
       "    </tr>\n",
       "    <tr>\n",
       "      <th>0</th>\n",
       "      <td>37</td>\n",
       "      <td>0.436234</td>\n",
       "      <td>0.433255</td>\n",
       "    </tr>\n",
       "    <tr>\n",
       "      <th>0</th>\n",
       "      <td>38</td>\n",
       "      <td>0.435874</td>\n",
       "      <td>0.433017</td>\n",
       "    </tr>\n",
       "    <tr>\n",
       "      <th>0</th>\n",
       "      <td>39</td>\n",
       "      <td>0.440104</td>\n",
       "      <td>0.438690</td>\n",
       "    </tr>\n",
       "    <tr>\n",
       "      <th>0</th>\n",
       "      <td>40</td>\n",
       "      <td>0.438938</td>\n",
       "      <td>0.437270</td>\n",
       "    </tr>\n",
       "  </tbody>\n",
       "</table>\n",
       "</div>"
      ],
      "text/plain": [
       "   count_features  f1_train   f1_test\n",
       "0              10  0.428011  0.428644\n",
       "0              11  0.427368  0.427480\n",
       "0              12  0.425669  0.427123\n",
       "0              13  0.426312  0.427360\n",
       "0              14  0.425701  0.427760\n",
       "0              15  0.425750  0.428145\n",
       "0              16  0.425933  0.428868\n",
       "0              17  0.427839  0.429040\n",
       "0              18  0.427798  0.429056\n",
       "0              19  0.428069  0.429174\n",
       "0              20  0.428382  0.429690\n",
       "0              21  0.430212  0.431175\n",
       "0              22  0.430282  0.431123\n",
       "0              23  0.434309  0.434333\n",
       "0              24  0.437269  0.434865\n",
       "0              25  0.436952  0.434287\n",
       "0              26  0.436925  0.434578\n",
       "0              27  0.437032  0.435143\n",
       "0              28  0.437146  0.435031\n",
       "0              29  0.437247  0.434507\n",
       "0              30  0.437826  0.434765\n",
       "0              31  0.437751  0.434384\n",
       "0              32  0.437108  0.433401\n",
       "0              33  0.437144  0.433364\n",
       "0              34  0.437815  0.435366\n",
       "0              35  0.437292  0.433912\n",
       "0              36  0.436101  0.432395\n",
       "0              37  0.436234  0.433255\n",
       "0              38  0.435874  0.433017\n",
       "0              39  0.440104  0.438690\n",
       "0              40  0.438938  0.437270"
      ]
     },
     "execution_count": 69,
     "metadata": {},
     "output_type": "execute_result"
    }
   ],
   "source": [
    "scores_data"
   ]
  },
  {
   "cell_type": "code",
   "execution_count": 70,
   "metadata": {},
   "outputs": [
    {
     "data": {
      "text/html": [
       "<div>\n",
       "<style scoped>\n",
       "    .dataframe tbody tr th:only-of-type {\n",
       "        vertical-align: middle;\n",
       "    }\n",
       "\n",
       "    .dataframe tbody tr th {\n",
       "        vertical-align: top;\n",
       "    }\n",
       "\n",
       "    .dataframe thead th {\n",
       "        text-align: right;\n",
       "    }\n",
       "</style>\n",
       "<table border=\"1\" class=\"dataframe\">\n",
       "  <thead>\n",
       "    <tr style=\"text-align: right;\">\n",
       "      <th></th>\n",
       "      <th>count_features</th>\n",
       "      <th>set_type</th>\n",
       "      <th>score</th>\n",
       "    </tr>\n",
       "  </thead>\n",
       "  <tbody>\n",
       "    <tr>\n",
       "      <th>0</th>\n",
       "      <td>10</td>\n",
       "      <td>f1_train</td>\n",
       "      <td>0.428011</td>\n",
       "    </tr>\n",
       "    <tr>\n",
       "      <th>1</th>\n",
       "      <td>11</td>\n",
       "      <td>f1_train</td>\n",
       "      <td>0.427368</td>\n",
       "    </tr>\n",
       "    <tr>\n",
       "      <th>2</th>\n",
       "      <td>12</td>\n",
       "      <td>f1_train</td>\n",
       "      <td>0.425669</td>\n",
       "    </tr>\n",
       "    <tr>\n",
       "      <th>3</th>\n",
       "      <td>13</td>\n",
       "      <td>f1_train</td>\n",
       "      <td>0.426312</td>\n",
       "    </tr>\n",
       "    <tr>\n",
       "      <th>4</th>\n",
       "      <td>14</td>\n",
       "      <td>f1_train</td>\n",
       "      <td>0.425701</td>\n",
       "    </tr>\n",
       "  </tbody>\n",
       "</table>\n",
       "</div>"
      ],
      "text/plain": [
       "   count_features  set_type     score\n",
       "0              10  f1_train  0.428011\n",
       "1              11  f1_train  0.427368\n",
       "2              12  f1_train  0.425669\n",
       "3              13  f1_train  0.426312\n",
       "4              14  f1_train  0.425701"
      ]
     },
     "execution_count": 70,
     "metadata": {},
     "output_type": "execute_result"
    }
   ],
   "source": [
    "scores_data_long = pd.melt(scores_data, id_vars=['count_features'], value_vars=['f1_train', 'f1_test'],\n",
    "                          var_name='set_type', value_name='score')\n",
    "scores_data_long.head()"
   ]
  },
  {
   "cell_type": "code",
   "execution_count": 71,
   "metadata": {},
   "outputs": [
    {
     "data": {
      "text/plain": [
       "<AxesSubplot:xlabel='count_features', ylabel='score'>"
      ]
     },
     "execution_count": 71,
     "metadata": {},
     "output_type": "execute_result"
    },
    {
     "data": {
      "image/png": "[encoded data removed]",
      "text/plain": [
       "<Figure size 1440x720 with 1 Axes>"
      ]
     },
     "metadata": {
      "needs_background": "light"
     },
     "output_type": "display_data"
    }
   ],
   "source": [
    "sns.lineplot(x='count_features', y='score', hue='set_type', data=scores_data_long)"
   ]
  },
  {
   "cell_type": "markdown",
   "metadata": {},
   "source": [
    "Выберем кол-во признаков, на котором достигается максимум f меры:"
   ]
  },
  {
   "cell_type": "code",
   "execution_count": 72,
   "metadata": {},
   "outputs": [
    {
     "data": {
      "text/plain": [
       "39"
      ]
     },
     "execution_count": 72,
     "metadata": {},
     "output_type": "execute_result"
    }
   ],
   "source": [
    "count = int(scores_data.iloc[scores_data['f1_test'].argmax()]['count_features'])\n",
    "count"
   ]
  },
  {
   "cell_type": "code",
   "execution_count": 78,
   "metadata": {},
   "outputs": [
    {
     "data": {
      "text/plain": [
       "<PandasArray>\n",
       "[  'feature_1',   'feature_5',   'feature_9',  'feature_28',  'feature_30',\n",
       "  'feature_42',  'feature_48',  'feature_49',  'feature_52',  'feature_54',\n",
       "  'feature_55',  'feature_82',  'feature_83',  'feature_85',  'feature_86',\n",
       "  'feature_87',  'feature_88',  'feature_89',  'feature_91',  'feature_94',\n",
       "  'feature_95',  'feature_96',  'feature_98',  'feature_99', 'feature_101',\n",
       " 'feature_102', 'feature_103', 'feature_104', 'feature_105', 'feature_106',\n",
       " 'feature_108', 'feature_110', 'feature_113', 'feature_114', 'feature_115',\n",
       " 'feature_116', 'feature_120', 'feature_121', 'feature_124']\n",
       "Length: 39, dtype: object"
      ]
     },
     "execution_count": 78,
     "metadata": {},
     "output_type": "execute_result"
    }
   ],
   "source": [
    "selector = SelectKBest(f_classif, k=count)\n",
    "selector.fit(X_valid, y_valid)\n",
    "\n",
    "col = selector.get_support(indices=True)\n",
    "features_df_new = X_valid.iloc[:,col]\n",
    "cols = features_df_new.columns.array\n",
    "cols"
   ]
  },
  {
   "cell_type": "code",
   "execution_count": 85,
   "metadata": {},
   "outputs": [
    {
     "name": "stdout",
     "output_type": "stream",
     "text": [
      "f1_train - 0.4401037415891325\n",
      "f1_test - 0.43869042394452734\n"
     ]
    }
   ],
   "source": [
    "best_clf.fit(X_train[cols], y_train)\n",
    "\n",
    "y_train_pred = best_clf.predict(X_train[cols])\n",
    "y_test_pred = best_clf.predict(X_test[cols])\n",
    "y_test_pred_proba = best_clf.predict_proba(X_test[cols])\n",
    "\n",
    "print('f1_train - {}'.format(f1_score(y_train, y_train_pred)))\n",
    "print('f1_test - {}'.format(f1_score(y_test, y_test_pred)))"
   ]
  },
  {
   "cell_type": "code",
   "execution_count": 83,
   "metadata": {},
   "outputs": [
    {
     "name": "stdout",
     "output_type": "stream",
     "text": [
      "              precision    recall  f1-score   support\n",
      "\n",
      "           0       0.92      0.71      0.80     54423\n",
      "           1       0.32      0.69      0.44     10882\n",
      "\n",
      "    accuracy                           0.71     65305\n",
      "   macro avg       0.62      0.70      0.62     65305\n",
      "weighted avg       0.82      0.71      0.74     65305\n",
      "\n"
     ]
    }
   ],
   "source": [
    "print(classification_report(y_test, y_test_pred))"
   ]
  },
  {
   "cell_type": "code",
   "execution_count": 88,
   "metadata": {},
   "outputs": [
    {
     "data": {
      "image/png": "[encoded data removed]",
      "text/plain": [
       "<Figure size 648x648 with 2 Axes>"
      ]
     },
     "metadata": {
      "needs_background": "light"
     },
     "output_type": "display_data"
    }
   ],
   "source": [
    "cm = confusion_matrix(y_test, y_test_pred)\n",
    "plt.figure(figsize=(9,9))\n",
    "sns.heatmap(cm, annot=True, fmt=\".3f\", linewidths=.5, square = True, cmap = 'Blues_r');\n",
    "plt.ylabel('Actual label');\n",
    "plt.xlabel('Predicted label');"
   ]
  },
  {
   "cell_type": "code",
   "execution_count": 84,
   "metadata": {},
   "outputs": [
    {
     "data": {
      "image/png": "[encoded data removed]",
      "text/plain": [
       "<Figure size 1440x720 with 1 Axes>"
      ]
     },
     "metadata": {
      "needs_background": "light"
     },
     "output_type": "display_data"
    }
   ],
   "source": [
    "logit_roc_auc = roc_auc_score(y_test, best_clf.predict(X_test[cols]));\n",
    "fpr, tpr, thresholds = roc_curve(y_test, best_clf.predict_proba(X_test[cols])[:,1]);\n",
    "plt.figure();\n",
    "plt.plot(fpr, tpr, label='Logistic Regression (area = %0.2f)' % logit_roc_auc);\n",
    "plt.plot([0, 1], [0, 1],'r--');\n",
    "plt.xlim([0.0, 1.0]);\n",
    "plt.ylim([0.0, 1.05]);\n",
    "plt.xlabel('False Positive Rate');\n",
    "plt.ylabel('True Positive Rate');\n",
    "plt.title('Receiver operating characteristic');\n",
    "plt.legend(loc=\"lower right\");\n",
    "plt.savefig('Log_ROC');\n",
    "plt.show()"
   ]
  },
  {
   "cell_type": "markdown",
   "metadata": {},
   "source": [
    "## Сводная таблица"
   ]
  },
  {
   "cell_type": "code",
   "execution_count": 86,
   "metadata": {},
   "outputs": [],
   "source": [
    "final = pd.DataFrame(data=y_test)\n",
    "final['predict'] = y_test_pred\n",
    "final['predict_proba'] = y_test_pred_proba[:,1]"
   ]
  },
  {
   "cell_type": "code",
   "execution_count": 87,
   "metadata": {},
   "outputs": [
    {
     "data": {
      "text/html": [
       "<div>\n",
       "<style scoped>\n",
       "    .dataframe tbody tr th:only-of-type {\n",
       "        vertical-align: middle;\n",
       "    }\n",
       "\n",
       "    .dataframe tbody tr th {\n",
       "        vertical-align: top;\n",
       "    }\n",
       "\n",
       "    .dataframe thead th {\n",
       "        text-align: right;\n",
       "    }\n",
       "</style>\n",
       "<table border=\"1\" class=\"dataframe\">\n",
       "  <thead>\n",
       "    <tr style=\"text-align: right;\">\n",
       "      <th></th>\n",
       "      <th>target</th>\n",
       "      <th>predict</th>\n",
       "      <th>predict_proba</th>\n",
       "    </tr>\n",
       "  </thead>\n",
       "  <tbody>\n",
       "    <tr>\n",
       "      <th>227105</th>\n",
       "      <td>1</td>\n",
       "      <td>1</td>\n",
       "      <td>0.759918</td>\n",
       "    </tr>\n",
       "    <tr>\n",
       "      <th>23353</th>\n",
       "      <td>0</td>\n",
       "      <td>1</td>\n",
       "      <td>0.847194</td>\n",
       "    </tr>\n",
       "    <tr>\n",
       "      <th>225909</th>\n",
       "      <td>0</td>\n",
       "      <td>1</td>\n",
       "      <td>0.579499</td>\n",
       "    </tr>\n",
       "    <tr>\n",
       "      <th>213906</th>\n",
       "      <td>0</td>\n",
       "      <td>1</td>\n",
       "      <td>0.536905</td>\n",
       "    </tr>\n",
       "    <tr>\n",
       "      <th>236353</th>\n",
       "      <td>0</td>\n",
       "      <td>0</td>\n",
       "      <td>0.114290</td>\n",
       "    </tr>\n",
       "  </tbody>\n",
       "</table>\n",
       "</div>"
      ],
      "text/plain": [
       "        target  predict  predict_proba\n",
       "227105       1        1       0.759918\n",
       "23353        0        1       0.847194\n",
       "225909       0        1       0.579499\n",
       "213906       0        1       0.536905\n",
       "236353       0        0       0.114290"
      ]
     },
     "execution_count": 87,
     "metadata": {},
     "output_type": "execute_result"
    }
   ],
   "source": [
    "final.head()"
   ]
  },
  {
   "cell_type": "code",
   "execution_count": 89,
   "metadata": {},
   "outputs": [],
   "source": [
    "final_data = pd.DataFrame()\n",
    "i = 0\n",
    "while i < 1:\n",
    "    max_p = i+0.1\n",
    "    proba = '({}, {})'.format(i, round(max_p, 1))\n",
    "    group = final.query('predict_proba >= @i & predict_proba < @max_p').target.count()\n",
    "    target = final.query('predict_proba >= @i & predict_proba < @max_p & target ==1').target.count()\n",
    "    i = round(i + 0.1, 1)\n",
    "    \n",
    "    temp_data = pd.DataFrame({'Вероятность':[proba],\n",
    "                              'Всего в группе':[group], \n",
    "                              'Кол-во target 1': [target]})\n",
    "    \n",
    "    final_data = final_data.append(temp_data)"
   ]
  },
  {
   "cell_type": "code",
   "execution_count": 90,
   "metadata": {},
   "outputs": [
    {
     "data": {
      "text/html": [
       "<div>\n",
       "<style scoped>\n",
       "    .dataframe tbody tr th:only-of-type {\n",
       "        vertical-align: middle;\n",
       "    }\n",
       "\n",
       "    .dataframe tbody tr th {\n",
       "        vertical-align: top;\n",
       "    }\n",
       "\n",
       "    .dataframe thead th {\n",
       "        text-align: right;\n",
       "    }\n",
       "</style>\n",
       "<table border=\"1\" class=\"dataframe\">\n",
       "  <thead>\n",
       "    <tr style=\"text-align: right;\">\n",
       "      <th></th>\n",
       "      <th>Вероятность</th>\n",
       "      <th>Всего в группе</th>\n",
       "      <th>Кол-во target 1</th>\n",
       "    </tr>\n",
       "  </thead>\n",
       "  <tbody>\n",
       "    <tr>\n",
       "      <th>0</th>\n",
       "      <td>(0, 0.1)</td>\n",
       "      <td>1073</td>\n",
       "      <td>11</td>\n",
       "    </tr>\n",
       "    <tr>\n",
       "      <th>0</th>\n",
       "      <td>(0.1, 0.2)</td>\n",
       "      <td>7888</td>\n",
       "      <td>198</td>\n",
       "    </tr>\n",
       "    <tr>\n",
       "      <th>0</th>\n",
       "      <td>(0.2, 0.3)</td>\n",
       "      <td>11193</td>\n",
       "      <td>593</td>\n",
       "    </tr>\n",
       "    <tr>\n",
       "      <th>0</th>\n",
       "      <td>(0.3, 0.4)</td>\n",
       "      <td>10862</td>\n",
       "      <td>988</td>\n",
       "    </tr>\n",
       "    <tr>\n",
       "      <th>0</th>\n",
       "      <td>(0.4, 0.5)</td>\n",
       "      <td>10992</td>\n",
       "      <td>1595</td>\n",
       "    </tr>\n",
       "    <tr>\n",
       "      <th>0</th>\n",
       "      <td>(0.5, 0.6)</td>\n",
       "      <td>9494</td>\n",
       "      <td>2032</td>\n",
       "    </tr>\n",
       "    <tr>\n",
       "      <th>0</th>\n",
       "      <td>(0.6, 0.7)</td>\n",
       "      <td>6096</td>\n",
       "      <td>1862</td>\n",
       "    </tr>\n",
       "    <tr>\n",
       "      <th>0</th>\n",
       "      <td>(0.7, 0.8)</td>\n",
       "      <td>3514</td>\n",
       "      <td>1426</td>\n",
       "    </tr>\n",
       "    <tr>\n",
       "      <th>0</th>\n",
       "      <td>(0.8, 0.9)</td>\n",
       "      <td>2580</td>\n",
       "      <td>1232</td>\n",
       "    </tr>\n",
       "    <tr>\n",
       "      <th>0</th>\n",
       "      <td>(0.9, 1.0)</td>\n",
       "      <td>1613</td>\n",
       "      <td>945</td>\n",
       "    </tr>\n",
       "  </tbody>\n",
       "</table>\n",
       "</div>"
      ],
      "text/plain": [
       "  Вероятность  Всего в группе  Кол-во target 1\n",
       "0    (0, 0.1)            1073               11\n",
       "0  (0.1, 0.2)            7888              198\n",
       "0  (0.2, 0.3)           11193              593\n",
       "0  (0.3, 0.4)           10862              988\n",
       "0  (0.4, 0.5)           10992             1595\n",
       "0  (0.5, 0.6)            9494             2032\n",
       "0  (0.6, 0.7)            6096             1862\n",
       "0  (0.7, 0.8)            3514             1426\n",
       "0  (0.8, 0.9)            2580             1232\n",
       "0  (0.9, 1.0)            1613              945"
      ]
     },
     "execution_count": 90,
     "metadata": {},
     "output_type": "execute_result"
    }
   ],
   "source": [
    "final_data"
   ]
  },
  {
   "cell_type": "markdown",
   "metadata": {},
   "source": [
    "## Работа модели на неразмеченных данных"
   ]
  },
  {
   "cell_type": "code",
   "execution_count": 91,
   "metadata": {},
   "outputs": [
    {
     "data": {
      "text/html": [
       "<div>\n",
       "<style scoped>\n",
       "    .dataframe tbody tr th:only-of-type {\n",
       "        vertical-align: middle;\n",
       "    }\n",
       "\n",
       "    .dataframe tbody tr th {\n",
       "        vertical-align: top;\n",
       "    }\n",
       "\n",
       "    .dataframe thead th {\n",
       "        text-align: right;\n",
       "    }\n",
       "</style>\n",
       "<table border=\"1\" class=\"dataframe\">\n",
       "  <thead>\n",
       "    <tr style=\"text-align: right;\">\n",
       "      <th></th>\n",
       "      <th>ID</th>\n",
       "      <th>feature_1</th>\n",
       "      <th>feature_2</th>\n",
       "      <th>feature_3</th>\n",
       "      <th>feature_4</th>\n",
       "      <th>feature_5</th>\n",
       "      <th>feature_6</th>\n",
       "      <th>feature_7</th>\n",
       "      <th>feature_8</th>\n",
       "      <th>feature_9</th>\n",
       "      <th>...</th>\n",
       "      <th>feature_115</th>\n",
       "      <th>feature_116</th>\n",
       "      <th>feature_117</th>\n",
       "      <th>feature_118</th>\n",
       "      <th>feature_119</th>\n",
       "      <th>feature_120</th>\n",
       "      <th>feature_121</th>\n",
       "      <th>feature_122</th>\n",
       "      <th>feature_123</th>\n",
       "      <th>feature_124</th>\n",
       "    </tr>\n",
       "  </thead>\n",
       "  <tbody>\n",
       "    <tr>\n",
       "      <th>0</th>\n",
       "      <td>255821</td>\n",
       "      <td>0</td>\n",
       "      <td>0</td>\n",
       "      <td>0</td>\n",
       "      <td>2268</td>\n",
       "      <td>34</td>\n",
       "      <td>0</td>\n",
       "      <td>1</td>\n",
       "      <td>0</td>\n",
       "      <td>0</td>\n",
       "      <td>...</td>\n",
       "      <td>1</td>\n",
       "      <td>0</td>\n",
       "      <td>0</td>\n",
       "      <td>0</td>\n",
       "      <td>0.0</td>\n",
       "      <td>6000</td>\n",
       "      <td>1000</td>\n",
       "      <td>4551.0204</td>\n",
       "      <td>12000</td>\n",
       "      <td>0.500000</td>\n",
       "    </tr>\n",
       "    <tr>\n",
       "      <th>1</th>\n",
       "      <td>255822</td>\n",
       "      <td>0</td>\n",
       "      <td>0</td>\n",
       "      <td>0</td>\n",
       "      <td>42</td>\n",
       "      <td>49</td>\n",
       "      <td>0</td>\n",
       "      <td>0</td>\n",
       "      <td>1</td>\n",
       "      <td>0</td>\n",
       "      <td>...</td>\n",
       "      <td>0</td>\n",
       "      <td>0</td>\n",
       "      <td>0</td>\n",
       "      <td>0</td>\n",
       "      <td>0.0</td>\n",
       "      <td>6000</td>\n",
       "      <td>3400</td>\n",
       "      <td>4700.0000</td>\n",
       "      <td>6000</td>\n",
       "      <td>1.000000</td>\n",
       "    </tr>\n",
       "    <tr>\n",
       "      <th>2</th>\n",
       "      <td>255823</td>\n",
       "      <td>0</td>\n",
       "      <td>0</td>\n",
       "      <td>0</td>\n",
       "      <td>265</td>\n",
       "      <td>69</td>\n",
       "      <td>0</td>\n",
       "      <td>1</td>\n",
       "      <td>0</td>\n",
       "      <td>0</td>\n",
       "      <td>...</td>\n",
       "      <td>0</td>\n",
       "      <td>0</td>\n",
       "      <td>0</td>\n",
       "      <td>0</td>\n",
       "      <td>0.0</td>\n",
       "      <td>3000</td>\n",
       "      <td>3000</td>\n",
       "      <td>4133.3333</td>\n",
       "      <td>6000</td>\n",
       "      <td>0.500000</td>\n",
       "    </tr>\n",
       "    <tr>\n",
       "      <th>3</th>\n",
       "      <td>255824</td>\n",
       "      <td>1</td>\n",
       "      <td>0</td>\n",
       "      <td>0</td>\n",
       "      <td>834</td>\n",
       "      <td>25</td>\n",
       "      <td>1</td>\n",
       "      <td>0</td>\n",
       "      <td>1</td>\n",
       "      <td>0</td>\n",
       "      <td>...</td>\n",
       "      <td>0</td>\n",
       "      <td>0</td>\n",
       "      <td>0</td>\n",
       "      <td>0</td>\n",
       "      <td>0.0</td>\n",
       "      <td>2000</td>\n",
       "      <td>1000</td>\n",
       "      <td>3875.0000</td>\n",
       "      <td>11000</td>\n",
       "      <td>0.181818</td>\n",
       "    </tr>\n",
       "    <tr>\n",
       "      <th>4</th>\n",
       "      <td>255825</td>\n",
       "      <td>0</td>\n",
       "      <td>0</td>\n",
       "      <td>0</td>\n",
       "      <td>772</td>\n",
       "      <td>26</td>\n",
       "      <td>1</td>\n",
       "      <td>1</td>\n",
       "      <td>0</td>\n",
       "      <td>0</td>\n",
       "      <td>...</td>\n",
       "      <td>1</td>\n",
       "      <td>0</td>\n",
       "      <td>0</td>\n",
       "      <td>0</td>\n",
       "      <td>0.0</td>\n",
       "      <td>8000</td>\n",
       "      <td>2000</td>\n",
       "      <td>7640.0000</td>\n",
       "      <td>12000</td>\n",
       "      <td>0.666667</td>\n",
       "    </tr>\n",
       "  </tbody>\n",
       "</table>\n",
       "<p>5 rows × 125 columns</p>\n",
       "</div>"
      ],
      "text/plain": [
       "       ID  feature_1  feature_2  feature_3  feature_4  feature_5  feature_6  \\\n",
       "0  255821          0          0          0       2268         34          0   \n",
       "1  255822          0          0          0         42         49          0   \n",
       "2  255823          0          0          0        265         69          0   \n",
       "3  255824          1          0          0        834         25          1   \n",
       "4  255825          0          0          0        772         26          1   \n",
       "\n",
       "   feature_7  feature_8  feature_9  ...  feature_115  feature_116  \\\n",
       "0          1          0          0  ...            1            0   \n",
       "1          0          1          0  ...            0            0   \n",
       "2          1          0          0  ...            0            0   \n",
       "3          0          1          0  ...            0            0   \n",
       "4          1          0          0  ...            1            0   \n",
       "\n",
       "   feature_117  feature_118  feature_119  feature_120  feature_121  \\\n",
       "0            0            0          0.0         6000         1000   \n",
       "1            0            0          0.0         6000         3400   \n",
       "2            0            0          0.0         3000         3000   \n",
       "3            0            0          0.0         2000         1000   \n",
       "4            0            0          0.0         8000         2000   \n",
       "\n",
       "   feature_122  feature_123  feature_124  \n",
       "0    4551.0204        12000     0.500000  \n",
       "1    4700.0000         6000     1.000000  \n",
       "2    4133.3333         6000     0.500000  \n",
       "3    3875.0000        11000     0.181818  \n",
       "4    7640.0000        12000     0.666667  \n",
       "\n",
       "[5 rows x 125 columns]"
      ]
     },
     "execution_count": 91,
     "metadata": {},
     "output_type": "execute_result"
    }
   ],
   "source": [
    "verify_data = pd.read_csv('verify.csv', ';')\n",
    "verify_data.head()"
   ]
  },
  {
   "cell_type": "code",
   "execution_count": 92,
   "metadata": {},
   "outputs": [
    {
     "name": "stdout",
     "output_type": "stream",
     "text": [
      "feature_102 - 20.451543815812958%\n",
      "feature_103 - 20.451543815812958%\n",
      "feature_104 - 20.451543815812958%\n",
      "feature_105 - 20.451543815812958%\n",
      "feature_106 - 23.130465821881135%\n"
     ]
    }
   ],
   "source": [
    "for col in verify_data.columns:\n",
    "    pct_missing = np.mean(verify_data[col].isnull())\n",
    "    if pct_missing > 0:\n",
    "        print('{} - {}%'.format(col, pct_missing*100))"
   ]
  },
  {
   "cell_type": "code",
   "execution_count": 93,
   "metadata": {},
   "outputs": [],
   "source": [
    "verify_data.fillna(verify_data.median(axis = 0), axis=0 , inplace=True)"
   ]
  },
  {
   "cell_type": "code",
   "execution_count": 94,
   "metadata": {},
   "outputs": [],
   "source": [
    "y_pred = best_clf.predict(verify_data[cols])\n",
    "y_pred_proba = best_clf.predict_proba(verify_data[cols])"
   ]
  },
  {
   "cell_type": "code",
   "execution_count": 95,
   "metadata": {},
   "outputs": [],
   "source": [
    "verify_data['score'] = y_pred_proba[:, 1]"
   ]
  },
  {
   "cell_type": "code",
   "execution_count": 96,
   "metadata": {},
   "outputs": [],
   "source": [
    "verify_data[['ID', 'score']].to_csv('predict.csv', ';')"
   ]
  },
  {
   "cell_type": "markdown",
   "metadata": {},
   "source": [
    "**Как можно заполнить пропущенные значения в данных?**\n",
    "Можно заполнить их медианой, средним или модой. Или спрогнозировать с помощью kNN оценок"
   ]
  },
  {
   "cell_type": "markdown",
   "metadata": {},
   "source": [
    "**Что делать, если таргет несбалансированный?**\n",
    "Для начала нужно понять является ли несбалансированность проблемой для той задачи, которую мы решаем, и узнать, что нам важнее прогнозировать: вероятность принадлежности к классу или метку классу. Если метку класса, то можно воспользоваться алгоритмами для oversampling/undersampling (библиотеки SMOTE, NearMiss)"
   ]
  },
  {
   "cell_type": "markdown",
   "metadata": {},
   "source": [
    "**Как бороться с переобучением?**\n",
    "Регуляризация, увеличение объема данных, уменьшение кол-ва используемых признаков"
   ]
  }
 ],
 "metadata": {
  "kernelspec": {
   "display_name": "Python 3",
   "language": "python",
   "name": "python3"
  },
  "language_info": {
   "codemirror_mode": {
    "name": "ipython",
    "version": 3
   },
   "file_extension": ".py",
   "mimetype": "text/x-python",
   "name": "python",
   "nbconvert_exporter": "python",
   "pygments_lexer": "ipython3",
   "version": "3.8.5"
  }
 },
 "nbformat": 4,
 "nbformat_minor": 4
}
